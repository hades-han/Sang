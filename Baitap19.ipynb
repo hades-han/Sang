{
 "cells": [
  {
   "cell_type": "code",
   "execution_count": 1,
   "id": "d968be73-468c-4b3b-9a1e-11edb5d8dd96",
   "metadata": {},
   "outputs": [
    {
     "name": "stdout",
     "output_type": "stream",
     "text": [
      "Requirement already satisfied: opencv-python in c:\\users\\mtbh.vn\\anaconda3\\lib\\site-packages (4.10.0.84)\n",
      "Requirement already satisfied: numpy>=1.21.2 in c:\\users\\mtbh.vn\\anaconda3\\lib\\site-packages (from opencv-python) (1.26.4)\n"
     ]
    },
    {
     "name": "stderr",
     "output_type": "stream",
     "text": [
      "\n",
      "[notice] A new release of pip is available: 24.2 -> 24.3.1\n",
      "[notice] To update, run: python.exe -m pip install --upgrade pip\n"
     ]
    }
   ],
   "source": [
    "!pip install opencv-python"
   ]
  },
  {
   "cell_type": "code",
   "execution_count": 2,
   "id": "274af1cb-1499-478c-a4e4-3e5d2b685a5f",
   "metadata": {},
   "outputs": [],
   "source": [
    "def display(title, img):\n",
    "    cv2.imshow(title, img)\n",
    "    # Chờ một khoảng thời gian\n",
    "    cv2.waitKey(0)\n",
    "    # Đóng window\n",
    "    cv2.destroyWindow(title)"
   ]
  },
  {
   "cell_type": "code",
   "execution_count": 3,
   "id": "885e8878-b035-4ba2-970c-a7b3e8ff2044",
   "metadata": {},
   "outputs": [],
   "source": [
    "# Import thư viện\n",
    "import cv2"
   ]
  },
  {
   "cell_type": "code",
   "execution_count": 4,
   "id": "19ddc94b-2357-4686-ba99-14302c243944",
   "metadata": {},
   "outputs": [
    {
     "name": "stdout",
     "output_type": "stream",
     "text": [
      "[[[0 0 0]\n",
      "  [0 0 0]\n",
      "  [0 0 0]\n",
      "  ...\n",
      "  [0 0 0]\n",
      "  [0 0 0]\n",
      "  [0 0 0]]\n",
      "\n",
      " [[0 0 0]\n",
      "  [0 0 0]\n",
      "  [0 0 0]\n",
      "  ...\n",
      "  [0 0 0]\n",
      "  [0 0 0]\n",
      "  [0 0 0]]\n",
      "\n",
      " [[0 0 0]\n",
      "  [0 0 0]\n",
      "  [0 0 0]\n",
      "  ...\n",
      "  [0 0 0]\n",
      "  [0 0 0]\n",
      "  [0 0 0]]\n",
      "\n",
      " ...\n",
      "\n",
      " [[0 0 0]\n",
      "  [0 0 0]\n",
      "  [0 0 0]\n",
      "  ...\n",
      "  [0 0 0]\n",
      "  [0 0 0]\n",
      "  [0 0 0]]\n",
      "\n",
      " [[0 0 0]\n",
      "  [0 0 0]\n",
      "  [0 0 0]\n",
      "  ...\n",
      "  [0 0 0]\n",
      "  [0 0 0]\n",
      "  [0 0 0]]\n",
      "\n",
      " [[0 0 0]\n",
      "  [0 0 0]\n",
      "  [0 0 0]\n",
      "  ...\n",
      "  [0 0 0]\n",
      "  [0 0 0]\n",
      "  [0 0 0]]]\n"
     ]
    }
   ],
   "source": [
    "# Đọc một ảnh (nhan TAB de nhin autocomplete)\n",
    "path= 'C:/HinhAnhThiGiacMayTinh/img01.png'\n",
    "img = cv2.imread(path)\n",
    "# In thông tin của ảnh\n",
    "print(img)"
   ]
  },
  {
   "cell_type": "code",
   "execution_count": 5,
   "id": "d1369d55-da79-4204-8977-b013b2c24192",
   "metadata": {},
   "outputs": [
    {
     "name": "stdout",
     "output_type": "stream",
     "text": [
      "(509, 500, 3)\n",
      "509\n",
      "500\n",
      "3\n"
     ]
    }
   ],
   "source": [
    "print(img.shape)\n",
    "x, y, z = img.shape\n",
    "print(x)\n",
    "print(y)\n",
    "print(z)"
   ]
  },
  {
   "cell_type": "code",
   "execution_count": 6,
   "id": "2610a31e-f178-401c-bd23-e24678f4d9b4",
   "metadata": {},
   "outputs": [],
   "source": [
    "# Hiển thị ảnh\n",
    "cv2.imshow('Window', img)\n",
    "# Chờ một khoảng thời gian\n",
    "cv2.waitKey(10000)\n",
    "# Đóng window\n",
    "cv2.destroyWindow('Window')"
   ]
  },
  {
   "cell_type": "code",
   "execution_count": 7,
   "id": "2ad5e8fd-2226-41e4-bbd9-4e444e88802e",
   "metadata": {},
   "outputs": [],
   "source": [
    "# Tách màu\n",
    "b, g, r = cv2.split(img)\n",
    "cv2.imshow('Window', img)\n",
    "cv2.imshow('Red', r)\n",
    "cv2.imshow('Green', g)\n",
    "cv2.imshow('Blue', b)\n",
    "\n",
    "# Chờ một khoảng thời gian\n",
    "cv2.waitKey(0)\n",
    "# Đóng window\n",
    "cv2.destroyAllWindows()"
   ]
  },
  {
   "cell_type": "code",
   "execution_count": 8,
   "id": "cf1a886b-fac3-4823-9aa8-0bed9299ed66",
   "metadata": {},
   "outputs": [],
   "source": [
    "gray_img = cv2.cvtColor(img, cv2.COLOR_BGR2GRAY)\n",
    "img_2 = cv2.cvtColor(img, cv2.COLOR_BGR2RGB)\n",
    "cv2.imshow('Window', img)\n",
    "cv2.imshow('gray_img', gray_img)\n",
    "cv2.imshow('img_2', img_2)\n",
    "# Chờ một khoảng thời gian\n",
    "cv2.waitKey(0)\n",
    "# Đóng window\n",
    "cv2.destroyAllWindows()"
   ]
  },
  {
   "cell_type": "code",
   "execution_count": 9,
   "id": "4c89bd15-8586-483c-abac-9983ee142702",
   "metadata": {},
   "outputs": [],
   "source": [
    "# Thay đổi thông số của điểm ảnh\n",
    "height, width, z = img.shape\n",
    "quater_h = height/2\n",
    "quater_w = width/2\n",
    "\n",
    "# green color\n",
    "green_color = (0,255,0)\n",
    "\n",
    "# copy ảnh\n",
    "img2 = img.copy()\n",
    "\n",
    "# thay đổi màu của góc 1/4 bên trái trên\n",
    "\n",
    "for y in range(int(quater_h)):\n",
    "    for x in range(int(quater_w)):\n",
    "        img2[y, x] = green_color\n",
    "# Hiển thị\n",
    "#display('Window', img)\n",
    "display('Window-2', img2)"
   ]
  },
  {
   "cell_type": "code",
   "execution_count": null,
   "id": "d0682aff-6fbf-4136-b0b2-c18126c9b7ba",
   "metadata": {},
   "outputs": [],
   "source": []
  },
  {
   "cell_type": "code",
   "execution_count": null,
   "id": "f4bd43f3-a13d-41a2-902a-7b568f5dc1eb",
   "metadata": {},
   "outputs": [],
   "source": []
  }
 ],
 "metadata": {
  "kernelspec": {
   "display_name": "Python 3 (ipykernel)",
   "language": "python",
   "name": "python3"
  },
  "language_info": {
   "codemirror_mode": {
    "name": "ipython",
    "version": 3
   },
   "file_extension": ".py",
   "mimetype": "text/x-python",
   "name": "python",
   "nbconvert_exporter": "python",
   "pygments_lexer": "ipython3",
   "version": "3.12.4"
  }
 },
 "nbformat": 4,
 "nbformat_minor": 5
}
