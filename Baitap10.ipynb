{
 "cells": [
  {
   "cell_type": "code",
   "execution_count": 4,
   "id": "80d6b5ac-9d6e-4c59-ab8b-79001b5cc8e2",
   "metadata": {},
   "outputs": [],
   "source": [
    "from PIL import Image\n",
    "import matplotlib.pyplot as plt"
   ]
  },
  {
   "cell_type": "code",
   "execution_count": 5,
   "id": "8f9ec4dc-8b9d-40d3-98eb-d073de8762f2",
   "metadata": {},
   "outputs": [],
   "source": [
    "# Đường dẫn ảnh\n",
    "my_path = 'C:/HinhAnhThiGiacMayTinh/img03.png'"
   ]
  },
  {
   "cell_type": "code",
   "execution_count": 14,
   "id": "88d3334d-a9b1-4820-bb3a-368fd0be6b98",
   "metadata": {},
   "outputs": [],
   "source": [
    "# Đọc ảnh\n",
    "im = Image.open(my_path)\n",
    "\n",
    "# Chuyển đổi backend\n",
    "plt.switch_backend(\"tkagg\")\n",
    "\n",
    "# Hiện ảnh\n",
    "plt.imshow(im)\n",
    "plt.title(\"Click on the image to select points\")\n",
    "\n",
    "#Sử dụng hàm ginput() để trọn điểm ảnh \n",
    "points = plt.ginput(5)\n",
    "\n",
    "# Hiển thị\n",
    "plt.show()"
   ]
  },
  {
   "cell_type": "code",
   "execution_count": 15,
   "id": "8349c4f6-42c5-44be-b903-a77e8f364223",
   "metadata": {},
   "outputs": [
    {
     "name": "stdout",
     "output_type": "stream",
     "text": [
      "[(102.04329004329006, 96.09090909090907), (359.07792207792215, 354.478354978355), (229.20779220779227, 227.3138528138528), (96.63203463203465, 350.4199134199134), (342.8441558441559, 125.85281385281382)]\n"
     ]
    }
   ],
   "source": [
    "print(points)"
   ]
  },
  {
   "cell_type": "code",
   "execution_count": 16,
   "id": "54896e61-a7a4-4103-9630-39480e29bc2b",
   "metadata": {},
   "outputs": [],
   "source": [
    "# Vẽ lại các điểm đã chọn\n",
    "plt.close()\n",
    "# Vẽ lại\n",
    "plt.imshow(im)\n",
    "for point in points:\n",
    "    x, y =point\n",
    "    plt.plot(x,y,'r*')\n",
    "             \n",
    "plt.show()"
   ]
  },
  {
   "cell_type": "code",
   "execution_count": null,
   "id": "3b711172-6ca0-436c-8b55-8bb2b90c7e6f",
   "metadata": {},
   "outputs": [],
   "source": []
  }
 ],
 "metadata": {
  "kernelspec": {
   "display_name": "Python 3 (ipykernel)",
   "language": "python",
   "name": "python3"
  },
  "language_info": {
   "codemirror_mode": {
    "name": "ipython",
    "version": 3
   },
   "file_extension": ".py",
   "mimetype": "text/x-python",
   "name": "python",
   "nbconvert_exporter": "python",
   "pygments_lexer": "ipython3",
   "version": "3.12.4"
  }
 },
 "nbformat": 4,
 "nbformat_minor": 5
}
