{
 "cells": [
  {
   "cell_type": "code",
   "execution_count": 1,
   "id": "5d95e7fd-9960-4a7a-a93c-8a246a11d2f4",
   "metadata": {},
   "outputs": [
    {
     "name": "stdout",
     "output_type": "stream",
     "text": [
      "Requirement already satisfied: scipy in c:\\users\\mtbh.vn\\anaconda3\\lib\\site-packages (1.13.1)\n",
      "Requirement already satisfied: numpy<2.3,>=1.22.4 in c:\\users\\mtbh.vn\\anaconda3\\lib\\site-packages (from scipy) (1.26.4)\n"
     ]
    }
   ],
   "source": [
    "#!pip install scipy"
   ]
  },
  {
   "cell_type": "code",
   "execution_count": 3,
   "id": "afa2b1ab-fb3b-4a9a-8cee-bec274438d4d",
   "metadata": {},
   "outputs": [],
   "source": [
    "from scipy import linalg\n",
    "import numpy as np"
   ]
  },
  {
   "cell_type": "code",
   "execution_count": 4,
   "id": "ffa3ee0c-1068-49e6-95c4-1860ed602a11",
   "metadata": {},
   "outputs": [
    {
     "name": "stdout",
     "output_type": "stream",
     "text": [
      "Kết quả :  [ 3. -1.]\n"
     ]
    }
   ],
   "source": [
    "# Định dạng hệ phương trình tuyến tính \n",
    "A = np.array ([[2,1],[3,2]])\n",
    "B = np.array ([5,7])\n",
    "# Giải hệ phương trình tuyến tính\n",
    "x = linalg.solve(A,B)\n",
    "print(\"Kết quả : \",x)"
   ]
  },
  {
   "cell_type": "code",
   "execution_count": 8,
   "id": "d7fe432c-69f7-4eee-a561-969bee6fc7f7",
   "metadata": {},
   "outputs": [
    {
     "name": "stdout",
     "output_type": "stream",
     "text": [
      "Tích phân f(x) từ 0 đến 1: (31.5, 3.497202527569243e-13)\n"
     ]
    }
   ],
   "source": [
    "# Tính tích phân của một hàm số\n",
    "from scipy import integrate\n",
    "# Định nghĩa f(x)=x^2\n",
    "def my_function(x):\n",
    "    return x**2+x+1;\n",
    "\n",
    "# Tính tích phân của f(x) từ 0 đến 1\n",
    "integral = integrate.quad(my_function, 1, 4);\n",
    "print(\"Tích phân f(x) từ 0 đến 1:\", integral)"
   ]
  },
  {
   "cell_type": "code",
   "execution_count": 13,
   "id": "71918584-5e24-4ce1-8b5b-06d6881b7556",
   "metadata": {},
   "outputs": [
    {
     "name": "stdout",
     "output_type": "stream",
     "text": [
      "Giá trị riêng: [3.73205081+0.j 0.26794919+0.j]\n",
      "Vecto riêng: [[ 0.5       -0.5      ]\n",
      " [ 0.8660254  0.8660254]]\n"
     ]
    }
   ],
   "source": [
    "from scipy import linalg\n",
    "import numpy as np\n",
    "\n",
    "# Tính giá trị riêng và vector riêng của một ma trận\n",
    "A = np.array ([[2,1],[3,2]])\n",
    "\n",
    "# Tính giá trị riêng và Vector\n",
    "evals, evecs = linalg.eig(A)\n",
    "\n",
    "print(\"Giá trị riêng:\", evals )\n",
    "print(\"Vecto riêng:\", evecs)"
   ]
  },
  {
   "cell_type": "code",
   "execution_count": null,
   "id": "7ba3ac3f-6b6f-4ade-ab64-2b647c8d575c",
   "metadata": {},
   "outputs": [],
   "source": []
  }
 ],
 "metadata": {
  "kernelspec": {
   "display_name": "Python 3 (ipykernel)",
   "language": "python",
   "name": "python3"
  },
  "language_info": {
   "codemirror_mode": {
    "name": "ipython",
    "version": 3
   },
   "file_extension": ".py",
   "mimetype": "text/x-python",
   "name": "python",
   "nbconvert_exporter": "python",
   "pygments_lexer": "ipython3",
   "version": "3.12.4"
  }
 },
 "nbformat": 4,
 "nbformat_minor": 5
}
